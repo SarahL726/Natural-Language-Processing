{
 "cells": [
  {
   "cell_type": "code",
   "execution_count": 1,
   "metadata": {},
   "outputs": [],
   "source": [
    "import re\n",
    "from collections import Counter"
   ]
  },
  {
   "cell_type": "code",
   "execution_count": 2,
   "metadata": {},
   "outputs": [],
   "source": [
    "def text_from_txt(file):\n",
    "    # Remove any character in the text that is not in [a-zA-Z] by turning it into whitespace.\n",
    "    text = re.sub('([^A-Za-z ])', ' ', file.read())\n",
    "    # Convert the entire text to lowercase.\n",
    "    text = text.lower()\n",
    "    # Turn the text into \"words\" by splitting on whitespace\n",
    "    words = text.split(\" \")\n",
    "    return list(filter(('').__ne__, words))"
   ]
  },
  {
   "cell_type": "code",
   "execution_count": 3,
   "metadata": {},
   "outputs": [
    {
     "name": "stdout",
     "output_type": "stream",
     "text": [
      "52 the\n",
      "39 of\n",
      "38 et\n",
      "38 al\n",
      "36 a\n",
      "26 to\n",
      "25 and\n",
      "21 entity\n",
      "16 in\n",
      "16 as\n",
      "13 for\n",
      "13 graph\n",
      "12 kg\n",
      "12 entities\n",
      "11 embeddings\n",
      "10 based\n",
      "10 with\n",
      "10 is\n",
      "10 descriptions\n",
      "9 texts\n"
     ]
    }
   ],
   "source": [
    "path = \"./sample-text.txt\"\n",
    "text = open('./sample-text.txt', 'r')\n",
    "word_bag = text_from_txt(text)\n",
    "# print the 20 most common words\n",
    "counter = Counter(word_bag).most_common(20)\n",
    "for word in counter:\n",
    "    string, cnt = word\n",
    "    print(str(cnt) + \" \" + string)"
   ]
  }
 ],
 "metadata": {
  "kernelspec": {
   "display_name": "Python 3",
   "language": "python",
   "name": "python3"
  },
  "language_info": {
   "codemirror_mode": {
    "name": "ipython",
    "version": 3
   },
   "file_extension": ".py",
   "mimetype": "text/x-python",
   "name": "python",
   "nbconvert_exporter": "python",
   "pygments_lexer": "ipython3",
   "version": "3.9.6"
  },
  "orig_nbformat": 4,
  "vscode": {
   "interpreter": {
    "hash": "31f2aee4e71d21fbe5cf8b01ff0e069b9275f58929596ceb00d14d90e3e16cd6"
   }
  }
 },
 "nbformat": 4,
 "nbformat_minor": 2
}
