{
 "cells": [
  {
   "cell_type": "code",
   "execution_count": 67,
   "metadata": {},
   "outputs": [],
   "source": [
    "from bs4 import BeautifulSoup\n",
    "from bs4.element import Comment\n",
    "import urllib.request\n",
    "import re\n",
    "from collections import Counter"
   ]
  },
  {
   "cell_type": "code",
   "execution_count": 65,
   "metadata": {},
   "outputs": [],
   "source": [
    "def tag_visible(element):\n",
    "    if element.parent.name in ['style', 'script', 'head', 'meta','title', '[document]']:\n",
    "        return False\n",
    "    if isinstance(element, Comment):\n",
    "        return False\n",
    "    return True\n",
    "\n",
    "\n",
    "def text_from_html(body):\n",
    "    # Use Beautiful Soup to extract the visible text from the page.\n",
    "    soup = BeautifulSoup(body, 'html.parser')\n",
    "    texts = soup.find_all(string=True)\n",
    "    visible_texts = filter(tag_visible, texts)\n",
    "    # Turn the text into \"words\" by splitting on whitespace.\n",
    "    text = \" \".join(t.strip() for t in visible_texts)\n",
    "    # Remove any character in the text that is not in [a-zA-Z] by turning it into whitespace.\n",
    "    text = re.sub('([^A-Za-z ])', '', text)\n",
    "    # Convert the entire text to lowercase.\n",
    "    text = text.lower()\n",
    "    return text\n",
    "\n",
    "def text_into_words(text):\n",
    "    words = text.split(\" \")\n",
    "    return list(filter(('').__ne__, words))"
   ]
  },
  {
   "cell_type": "code",
   "execution_count": 71,
   "metadata": {},
   "outputs": [
    {
     "name": "stdout",
     "output_type": "stream",
     "text": [
      "5 to\n",
      "3 access\n",
      "3 this\n",
      "2 you\n",
      "2 have\n",
      "2 page\n",
      "1 need\n",
      "1 javascript\n",
      "1 enabled\n",
      "1 in\n",
      "1 order\n",
      "1 site\n",
      "1 close\n",
      "1 denied\n",
      "1 is\n",
      "1 limited\n",
      "1 authorized\n",
      "1 users\n",
      "1 do\n",
      "1 not\n"
     ]
    }
   ],
   "source": [
    "url = \"./download.html\"\n",
    "html = open(url).read()\n",
    "text = text_from_html(html)\n",
    "word_bag = text_into_words(text)\n",
    "counter = Counter(word_bag).most_common(20)\n",
    "for word in counter:\n",
    "    string, cnt = word\n",
    "    print(str(cnt) + \" \" + string)"
   ]
  },
  {
   "cell_type": "code",
   "execution_count": null,
   "metadata": {},
   "outputs": [],
   "source": []
  }
 ],
 "metadata": {
  "kernelspec": {
   "display_name": "Python 3",
   "language": "python",
   "name": "python3"
  },
  "language_info": {
   "codemirror_mode": {
    "name": "ipython",
    "version": 3
   },
   "file_extension": ".py",
   "mimetype": "text/x-python",
   "name": "python",
   "nbconvert_exporter": "python",
   "pygments_lexer": "ipython3",
   "version": "3.9.6"
  },
  "orig_nbformat": 4,
  "vscode": {
   "interpreter": {
    "hash": "31f2aee4e71d21fbe5cf8b01ff0e069b9275f58929596ceb00d14d90e3e16cd6"
   }
  }
 },
 "nbformat": 4,
 "nbformat_minor": 2
}
